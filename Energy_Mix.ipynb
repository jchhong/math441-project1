{
 "cells": [
  {
   "cell_type": "markdown",
   "id": "e9a2a89a-97d8-479d-a5c4-39d91b316fc9",
   "metadata": {},
   "source": [
    "# Energy Mix\n",
    "**Group 4**  \n",
    "Jianyi Chen, Jincheng Hong, Tianyu Su, Yicheng Huang"
   ]
  },
  {
   "cell_type": "markdown",
   "id": "2762a08f-e8ca-4d22-9fcd-8f5f222770ae",
   "metadata": {},
   "source": [
    "## 1. Problem Statement"
   ]
  },
  {
   "cell_type": "markdown",
   "id": "44d0184b-bc63-4dac-b090-42d434d14242",
   "metadata": {},
   "source": [
    "Construct a mathematical model predicting the compressive strength using features including: cement component, water component, coarse aggregate component and the fine aggregate component following the linear regression model."
   ]
  },
  {
   "cell_type": "markdown",
   "id": "5672e3ed-5981-4028-b7d5-1f6907088628",
   "metadata": {},
   "source": [
    "## 2. Variables and Parameters  \n",
    "\n",
    "**Task:** Complete the table parameters and variables.\n",
    "\n",
    "Hint: It may be helpful to know that GPa is gigapascals, which is a unit of pressure.  One megapascal is equal to one billion pascals and a Pascal in scientific units is: Pa $ = \\frac{\\textrm{kg}}{\\textrm{m s}}.$"
   ]
  },
  {
   "cell_type": "markdown",
   "id": "60553b90-940a-4a3f-813a-6a812713e7fe",
   "metadata": {},
   "source": [
    "\n",
    "| Description | Symbol | Units | Type|\n",
    "|-------------|--------|-------|-------|\n",
    "| Concrete Compressive Strength | $Y$ | GPa | target (dependent) variable |\n",
    "| Cement Component | $X1$ | kg/m$^3$| feature (independent) variable |\n",
    "| Water Component | $X2$ | - | feature (independent) variable |\n",
    "| Coarse Aggregate Component | $X3$ | kg/m$^3$| feature (independent) variable |\n",
    "| Fine Aggregate Component | $X4$ | kg/m$^3$| feature (independent) variable |\n",
    "| regression coefficent for intercept | $\\beta_0$ | GPa | parameter |\n",
    "| regression coefficent for Cement Component | $\\beta_1$ | m$^2$/s | parameter |\n",
    "| regression coefficent for Water Component | $\\beta_2$ | kg/(m s) | parameter |\n",
    "| regression coefficent for Coarse Aggregate Component | $\\beta_3$ | m$^2$/s | parameter |\n",
    "| regression coefficent for Fine Aggregate Component | $\\beta_4$ | m$^2$/s | parameter |\n",
    "| residural | $\\epsilon$ | GPa | parameter |\n"
   ]
  },
  {
   "cell_type": "markdown",
   "id": "c6e24508-f7ee-4ab1-b7ee-1723d0cd14b6",
   "metadata": {},
   "source": [
    "## 3. Assumptions and Constraints\n",
    "\n",
    "**Task:** State assumptions and constraints. "
   ]
  },
  {
   "cell_type": "markdown",
   "id": "bf6ac2ff-8e6e-42ca-b233-5f7a5d9df256",
   "metadata": {},
   "source": [
    "- The model follows the linear model $Y = \\beta_0 + \\beta_1 X_1 + \\beta_2 X_2 + \\beta_3 X_3 + \\beta_4 X_4 + \\varepsilon$\n",
    "- The average value of the error is 0: i.e., $\\mathbb{E}(\\epsilon_i) = 0$ for all $i$\n",
    "- The variance of the error is constant: i.e., $Var(\\epsilon_i) = \\sigma^2$ for all $i$.\n",
    "- The error $\\vec{\\epsilon}$ is a random sample from the normal distribution of zero mean and variance $\\sigma^2$.\n",
    "- The error is independent for each $\\epsilon_i$ for all $i$.\n",
    "- The features are independent of each other.\n",
    "- The features are representative of the compressive strength."
   ]
  },
  {
   "cell_type": "markdown",
   "id": "724f2aca-b0d3-4dc8-9326-71520b8ffbca",
   "metadata": {},
   "source": [
    "## 4. Build Solutions\n",
    "\n",
    "**Task:** Construct and run the linear regression model where `concrete_compressive_strength` is the output and `cement`,`water`, `course_aggregate`, and `fine_aggregate` are the inputs."
   ]
  },
  {
   "cell_type": "markdown",
   "id": "2e9c74d0-0b01-4d49-9855-746df8aaa687",
   "metadata": {},
   "source": [
    "## 5. Simple Model"
   ]
  },
  {
   "cell_type": "code",
   "execution_count": 1,
   "id": "5886ca65-0765-4985-be2b-8cd4f04fb335",
   "metadata": {},
   "outputs": [],
   "source": [
    "from pulp import LpMinimize, LpProblem, LpVariable, lpSum\n",
    "import pandas as pd\n",
    "\n",
    "# Load parameters from CSV\n",
    "parameters_df = pd.read_csv(\"energy_parameters.csv\", index_col=0)\n",
    "\n",
    "# Define energy sources\n",
    "energy_sources = parameters_df.index.tolist()\n",
    "\n",
    "# Extract parameters from CSV\n",
    "c = parameters_df[\"LCOE Cost ($/MWh)\"].to_dict()\n",
    "p = parameters_df[\"Pollution Cost (g/kWh CO2eq)\"].to_dict()\n",
    "f = parameters_df[\"Fixed Cost ($ per MW)\"].to_dict()\n",
    "l = parameters_df[\"Production Limit (MW)\"].to_dict()\n",
    "r = parameters_df[\"Renewable Indicator\"].to_dict()\n",
    "consumption_rate = parameters_df[\"Consumption Rate\"].to_dict()\n",
    "\n",
    "D = 45263.2  # Total energy demand (MW)\n",
    "B = 9.36e9  # Total budget ($)\n",
    "carbon_tax = 10  # Carbon tax ($ per tonne CO2eq)\n",
    "R_min = 0.8  # Updated renewable energy target to 0.8\n",
    "\n",
    "# Define variables\n",
    "x = LpVariable.dicts(\"x\", energy_sources, lowBound=0)  # Energy supply\n",
    "y = LpVariable.dicts(\"y\", energy_sources, lowBound=0)  # Energy extraction amount\n",
    "\n",
    "# Create optimization model\n",
    "model = LpProblem(\"Energy_Optimization\", LpMinimize)\n",
    "\n",
    "# Objective function: Minimize pollution cost including carbon tax\n",
    "model += lpSum((p[i] / 1e6) * carbon_tax * x[i] for i in energy_sources)\n",
    "\n",
    "# Constraint 1: Ensure energy demand is met (considering consumption rate)\n",
    "model += lpSum(y[i] for i in energy_sources) >= D\n",
    "\n",
    "# Constraint 2: Production limits\n",
    "for i in energy_sources:\n",
    "    model += x[i] <= l[i]\n",
    "    model += y[i] == x[i] * consumption_rate[i]  # Extraction amount = Production * Consumption rate"
   ]
  },
  {
   "cell_type": "code",
   "execution_count": null,
   "id": "55d987ab-fce5-4d62-bd31-2004d88df085",
   "metadata": {},
   "outputs": [],
   "source": []
  }
 ],
 "metadata": {
  "kernelspec": {
   "display_name": "Python 3 (ipykernel)",
   "language": "python",
   "name": "python3"
  },
  "language_info": {
   "codemirror_mode": {
    "name": "ipython",
    "version": 3
   },
   "file_extension": ".py",
   "mimetype": "text/x-python",
   "name": "python",
   "nbconvert_exporter": "python",
   "pygments_lexer": "ipython3",
   "version": "3.12.8"
  }
 },
 "nbformat": 4,
 "nbformat_minor": 5
}
