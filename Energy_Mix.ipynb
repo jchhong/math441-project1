{
 "cells": [
  {
   "cell_type": "markdown",
   "id": "e9a2a89a-97d8-479d-a5c4-39d91b316fc9",
   "metadata": {},
   "source": [
    "# Energy Mix\n",
    "**Group 4**  \n",
    "Jianyi Chen, Jincheng Hong, Tianyu Su, Yicheng Huang"
   ]
  },
  {
   "cell_type": "markdown",
   "id": "2762a08f-e8ca-4d22-9fcd-8f5f222770ae",
   "metadata": {},
   "source": [
    "## 1. Problem Statement"
   ]
  },
  {
   "cell_type": "markdown",
   "id": "44d0184b-bc63-4dac-b090-42d434d14242",
   "metadata": {},
   "source": [
    "Planet 441 is a planet with natural conditions similar to those of B.C. It relies on a combination of renewable and non-renewable energy sources to meet its power and energy needs. While hydroelectricity is a significant contributor, other energy sources including coal and natural gas, as well as emerging renewable energy technologies such as wind and solar, also play a role. However, due to a special government type, the government has a fixed budget for the cost of energy production. Our goal is to develop a mathematical optimization model that minimizes pollution while ensuring that energy needs are met efficiently."
   ]
  },
  {
   "cell_type": "markdown",
   "id": "5672e3ed-5981-4028-b7d5-1f6907088628",
   "metadata": {},
   "source": [
    "## 2. Variables and Parameters  \n",
    "\n",
    "**Task:** Complete the table parameters and variables.\n",
    "\n",
    "Hint: It may be helpful to know that GPa is gigapascals, which is a unit of pressure.  One megapascal is equal to one billion pascals and a Pascal in scientific units is: Pa $ = \\frac{\\textrm{kg}}{\\textrm{m s}}.$"
   ]
  },
  {
   "cell_type": "markdown",
   "id": "60553b90-940a-4a3f-813a-6a812713e7fe",
   "metadata": {},
   "source": [
    "\n",
    "| Description | Symbol | Units | Type|\n",
    "|-------------|--------|-------|-------|\n",
    "| Concrete Compressive Strength | $Y$ | GPa | target (dependent) variable |\n",
    "| Cement Component | $X1$ | kg/m$^3$| feature (independent) variable |\n",
    "| Water Component | $X2$ | - | feature (independent) variable |\n",
    "| Coarse Aggregate Component | $X3$ | kg/m$^3$| feature (independent) variable |\n",
    "| Fine Aggregate Component | $X4$ | kg/m$^3$| feature (independent) variable |\n",
    "| regression coefficent for intercept | $\\beta_0$ | GPa | parameter |\n",
    "| regression coefficent for Cement Component | $\\beta_1$ | m$^2$/s | parameter |\n",
    "| regression coefficent for Water Component | $\\beta_2$ | kg/(m s) | parameter |\n",
    "| regression coefficent for Coarse Aggregate Component | $\\beta_3$ | m$^2$/s | parameter |\n",
    "| regression coefficent for Fine Aggregate Component | $\\beta_4$ | m$^2$/s | parameter |\n",
    "| residural | $\\epsilon$ | GPa | parameter |\n"
   ]
  },
  {
   "cell_type": "markdown",
   "id": "c6e24508-f7ee-4ab1-b7ee-1723d0cd14b6",
   "metadata": {},
   "source": [
    "## 3. Assumptions and Constraints\n",
    "\n",
    "**Task:** State assumptions and constraints. "
   ]
  },
  {
   "cell_type": "markdown",
   "id": "bf6ac2ff-8e6e-42ca-b233-5f7a5d9df256",
   "metadata": {},
   "source": [
    "- The model follows the linear model $Y = \\beta_0 + \\beta_1 X_1 + \\beta_2 X_2 + \\beta_3 X_3 + \\beta_4 X_4 + \\varepsilon$\n",
    "- The average value of the error is 0: i.e., $\\mathbb{E}(\\epsilon_i) = 0$ for all $i$\n",
    "- The variance of the error is constant: i.e., $Var(\\epsilon_i) = \\sigma^2$ for all $i$.\n",
    "- The error $\\vec{\\epsilon}$ is a random sample from the normal distribution of zero mean and variance $\\sigma^2$.\n",
    "- The error is independent for each $\\epsilon_i$ for all $i$.\n",
    "- The features are independent of each other.\n",
    "- The features are representative of the compressive strength."
   ]
  },
  {
   "cell_type": "markdown",
   "id": "724f2aca-b0d3-4dc8-9326-71520b8ffbca",
   "metadata": {},
   "source": [
    "## 4. Build Solutions\n",
    "\n",
    "**Task:** Construct and run the linear regression model where `concrete_compressive_strength` is the output and `cement`,`water`, `course_aggregate`, and `fine_aggregate` are the inputs."
   ]
  },
  {
   "cell_type": "markdown",
   "id": "2e9c74d0-0b01-4d49-9855-746df8aaa687",
   "metadata": {},
   "source": [
    "## 5. Simple Model"
   ]
  },
  {
   "cell_type": "code",
   "execution_count": 1,
   "id": "5886ca65-0765-4985-be2b-8cd4f04fb335",
   "metadata": {},
   "outputs": [
    {
     "name": "stdout",
     "output_type": "stream",
     "text": [
      "Welcome to the CBC MILP Solver \n",
      "Version: 2.10.3 \n",
      "Build Date: Dec 15 2019 \n",
      "\n",
      "command line - /opt/conda/lib/python3.12/site-packages/pulp/solverdir/cbc/linux/64/cbc /tmp/26ed181f95904ae88e723633b45eedd7-pulp.mps -timeMode elapsed -branch -printingOptions all -solution /tmp/26ed181f95904ae88e723633b45eedd7-pulp.sol (default strategy 1)\n",
      "At line 2 NAME          MODEL\n",
      "At line 3 ROWS\n",
      "At line 18 COLUMNS\n",
      "At line 54 RHS\n",
      "At line 68 BOUNDS\n",
      "At line 69 ENDATA\n",
      "Problem MODEL has 13 rows, 10 columns and 30 elements\n",
      "Coin0008I MODEL read with 0 errors\n",
      "Option for timeMode changed from cpu to elapsed\n",
      "Presolve determined that the problem was infeasible with tolerance of 1e-08\n",
      "Analysis indicates model infeasible or unbounded\n",
      "0  Obj 0 Primal inf 45554.345 (1)\n",
      "10  Obj 3922.0567 Primal inf 2099115.5 (4)\n",
      "Primal infeasible - objective value 3922.0567\n",
      "PrimalInfeasible objective 3922.056729 - 10 iterations time 0.002\n",
      "\n",
      "Result - Linear relaxation infeasible\n",
      "\n",
      "Enumerated nodes:           0\n",
      "Total iterations:           0\n",
      "Time (CPU seconds):         0.00\n",
      "Time (Wallclock Seconds):   0.00\n",
      "\n",
      "Option for printingOptions changed from normal to all\n",
      "Total time (CPU seconds):       0.00   (Wallclock seconds):       0.00\n",
      "\n"
     ]
    },
    {
     "data": {
      "text/plain": [
       "-1"
      ]
     },
     "execution_count": 1,
     "metadata": {},
     "output_type": "execute_result"
    }
   ],
   "source": [
    "from pulp import LpMinimize, LpProblem, LpVariable, lpSum\n",
    "import pandas as pd\n",
    "\n",
    "# Load parameters from CSV\n",
    "parameters_df = pd.read_csv(\"energy_parameters.csv\", index_col=0)\n",
    "\n",
    "# Define energy sources\n",
    "energy_sources = parameters_df.index.tolist()\n",
    "\n",
    "# Extract parameters from CSV\n",
    "c = parameters_df[\"LCOE Cost ($/MWh)\"].to_dict()\n",
    "p = parameters_df[\"Pollution Cost (g/kWh CO2eq)\"].to_dict()\n",
    "f = parameters_df[\"Fixed Cost ($ per MW)\"].to_dict()\n",
    "l = parameters_df[\"Production Limit (MW)\"].to_dict()\n",
    "r = parameters_df[\"Renewable Indicator\"].to_dict()\n",
    "consumption_rate = parameters_df[\"Consumption Rate\"].to_dict()\n",
    "\n",
    "D = 45263.2  # Total energy demand (MW)\n",
    "B = 9.36e9  # Total budget ($)\n",
    "carbon_tax = 10  # Carbon tax ($ per tonne CO2eq)\n",
    "R_min = 0.8  # Updated renewable energy target to 0.8\n",
    "\n",
    "# Define variables\n",
    "x = LpVariable.dicts(\"x\", energy_sources, lowBound=0)  # Energy supply\n",
    "y = LpVariable.dicts(\"y\", energy_sources, lowBound=0)  # Energy extraction amount\n",
    "\n",
    "# Create optimization model\n",
    "model = LpProblem(\"Energy_Optimization\", LpMinimize)\n",
    "\n",
    "# Objective function: Minimize pollution cost including carbon tax\n",
    "model += lpSum((p[i] / 1e6) * carbon_tax * x[i] for i in energy_sources)\n",
    "\n",
    "# Constraint 1: Ensure energy demand is met (considering consumption rate)\n",
    "model += lpSum(y[i] for i in energy_sources) >= D\n",
    "\n",
    "# Constraint 2: Production limits\n",
    "for i in energy_sources:\n",
    "    model += x[i] <= l[i]\n",
    "    model += y[i] == x[i] * consumption_rate[i]  # Extraction amount = Production * Consumption rate\n",
    "\n",
    "# Constraint 3: Budget limitation\n",
    "model += lpSum(f[i] * x[i] for i in energy_sources) <= B\n",
    "\n",
    "# Constraint 4: Renewable energy ratio constraint (reformulated to avoid division)\n",
    "renewable_energy = lpSum(y[i] * r[i] for i in energy_sources)\n",
    "total_energy = lpSum(y[i] for i in energy_sources)\n",
    "model += renewable_energy >= R_min * total_energy\n",
    "\n",
    "# Solve the model\n",
    "model.solve()"
   ]
  },
  {
   "cell_type": "markdown",
   "id": "9989fc76-2996-4143-9f58-2c1817ef7271",
   "metadata": {},
   "source": [
    "## 6. Result for simple model"
   ]
  },
  {
   "cell_type": "code",
   "execution_count": 2,
   "id": "35df4761-e540-4423-a700-4feb4ef497da",
   "metadata": {},
   "outputs": [
    {
     "name": "stdout",
     "output_type": "stream",
     "text": [
      "  Energy Source  Production (MW·h)  Extraction (MW·h)  \\\n",
      "0         solar            905.264           814.7376   \n",
      "1          wind            905.264           769.4744   \n",
      "2         hydro        -273443.550       -259771.3700   \n",
      "3          coal         432983.220        303088.2500   \n",
      "4   natural_gas            452.632           362.1056   \n",
      "\n",
      "   Pollution Cost (g CO2eq)  Carbon Cost ($)  LCOE Cost ($)  \\\n",
      "0              3.349477e+04         0.334948   7.830534e+04   \n",
      "1              1.086317e+04         0.108632   9.641062e+04   \n",
      "2             -4.101653e+07      -410.165325  -5.824348e+07   \n",
      "3              4.329832e+08      4329.832200   3.204076e+07   \n",
      "4              1.946318e+05         1.946318   2.444213e+04   \n",
      "\n",
      "   Total CO2 Emissions (tonnes)  \n",
      "0                    392.205677  \n",
      "1                    392.205677  \n",
      "2                    392.205677  \n",
      "3                    392.205677  \n",
      "4                    392.205677  \n",
      "Optimization completed for 80% renewable energy target. Total CO2 Emissions: 392.21 tonnes.\n"
     ]
    }
   ],
   "source": [
    "# Calculate total CO2 mass\n",
    "total_co2_mass = sum(p[i] * x[i].varValue for i in energy_sources) / 1e6  # Convert from g to tonnes\n",
    "\n",
    "# Store results\n",
    "all_results = []\n",
    "for i in energy_sources:\n",
    "    all_results.append({\n",
    "        \"Energy Source\": i,\n",
    "        \"Production (MW·h)\": x[i].varValue,\n",
    "        \"Extraction (MW·h)\": y[i].varValue,\n",
    "        \"Pollution Cost (g CO2eq)\": p[i] * x[i].varValue,\n",
    "        \"Carbon Cost ($)\": (p[i] / 1e6) * carbon_tax * x[i].varValue,\n",
    "        \"LCOE Cost ($)\": c[i] * x[i].varValue,\n",
    "        \"Total CO2 Emissions (tonnes)\": total_co2_mass\n",
    "    })\n",
    "\n",
    "# Save results to CSV\n",
    "results_df = pd.DataFrame(all_results)\n",
    "results_df.to_csv(\"renewable_optimization_results.csv\", index=False)\n",
    "\n",
    "# Print results\n",
    "print(results_df)\n",
    "print(f\"Optimization completed for 80% renewable energy target. Total CO2 Emissions: {total_co2_mass:.2f} tonnes.\")"
   ]
  }
 ],
 "metadata": {
  "kernelspec": {
   "display_name": "Python 3 (ipykernel)",
   "language": "python",
   "name": "python3"
  },
  "language_info": {
   "codemirror_mode": {
    "name": "ipython",
    "version": 3
   },
   "file_extension": ".py",
   "mimetype": "text/x-python",
   "name": "python",
   "nbconvert_exporter": "python",
   "pygments_lexer": "ipython3",
   "version": "3.12.8"
  }
 },
 "nbformat": 4,
 "nbformat_minor": 5
}
