{
 "cells": [
  {
   "cell_type": "markdown",
   "id": "e9a2a89a-97d8-479d-a5c4-39d91b316fc9",
   "metadata": {},
   "source": [
    "# Energy Mix\n",
    "**Group 4**  \n",
    "Jianyi Chen, Jincheng Hong, Tianyu Su, Yicheng Huang"
   ]
  },
  {
   "cell_type": "markdown",
   "id": "2762a08f-e8ca-4d22-9fcd-8f5f222770ae",
   "metadata": {},
   "source": [
    "## 1. Problem Statement"
   ]
  },
  {
   "cell_type": "markdown",
   "id": "44d0184b-bc63-4dac-b090-42d434d14242",
   "metadata": {},
   "source": [
    "Planet 441 is a planet with natural conditions similar to those of B.C. It relies on a combination of renewable and non-renewable energy sources to meet its power and energy needs. While hydroelectricity is a significant contributor, other energy sources including coal and natural gas, as well as emerging renewable energy technologies such as wind and solar, also play a role. However, due to a special government type, the government has a fixed budget for the cost of energy production. Our goal is to develop a mathematical optimization model that minimizes pollution while ensuring that energy needs are met efficiently."
   ]
  },
  {
   "cell_type": "markdown",
   "id": "5672e3ed-5981-4028-b7d5-1f6907088628",
   "metadata": {},
   "source": [
    "## 2. Variables and Parameters"
   ]
  },
  {
   "cell_type": "markdown",
   "id": "60553b90-940a-4a3f-813a-6a812713e7fe",
   "metadata": {},
   "source": [
    "| Parameter               | Symbol        | Unit                |\n",
    "|-------------------------|--------------|--------------------|\n",
    "| LCOE Cost              | c            | \\$/Mwh             |\n",
    "| Pollution Cost         | p            | g/MWh CO2eq        |\n",
    "| Fixed Cost             | f            | \\$ per MW           |\n",
    "| Production Limit       | l            | MW                 |\n",
    "| Renewable Indicator    | r            | Binary (0 or 1)    |\n",
    "| Consumption Rate       | consumption_rate | Ratio           |\n",
    "| Total Energy Demand    | D            | MW                 |\n",
    "| Total Budget          | B            | \\$                  |\n",
    "| Carbon Tax            | carbon_tax   | \\$ per tonne CO2eq  |\n",
    "| Renewable Energy Target | R_min       | Ratio              |"
   ]
  },
  {
   "cell_type": "markdown",
   "id": "c6e24508-f7ee-4ab1-b7ee-1723d0cd14b6",
   "metadata": {},
   "source": [
    "## 3. Assumptions and Constraints\n",
    "\n",
    "**Task:** State assumptions and constraints. "
   ]
  },
  {
   "cell_type": "markdown",
   "id": "bf6ac2ff-8e6e-42ca-b233-5f7a5d9df256",
   "metadata": {},
   "source": [
    "\n",
    "\n",
    "### **Objective Function**\n",
    "Minimize the total pollution cost including carbon tax:\n",
    "$$\n",
    "\\min \\sum_{i \\in \\text{energy sources}} \\left( \\frac{p_i}{10^6} \\times \\text{carbon\\_tax} \\times x_i \\right)\n",
    "$$\n",
    "\n",
    "### **Constraints**\n",
    "#### **1. Energy Demand Constraint**\n",
    "Ensuring the total extracted energy meets demand:\n",
    "$$\n",
    "\\sum_{i \\in \\text{energy sources}} y_i \\geq D\n",
    "$$\n",
    "\n",
    "#### **2. Production Limits**\n",
    "Each energy source must not exceed its production capacity:\n",
    "$$\n",
    "x_i \\leq l_i, \\quad \\forall i \\in \\text{energy sources}\n",
    "$$\n",
    "The extracted energy depends on the consumption rate:\n",
    "$$\n",
    "y_i = x_i \\times \\text{consumption\\_rate}_i, \\quad \\forall i \\in \\text{energy sources}\n",
    "$$\n",
    "\n",
    "#### **3. Budget Constraint**\n",
    "The total energy production cost must not exceed the allocated budget:\n",
    "$$\n",
    "\\sum_{i \\in \\text{energy sources}} c_i \\times x_i \\leq B\n",
    "$$\n",
    "\n",
    "#### **4. Renewable Energy Constraint**\n",
    "Ensuring at least \\( R_{\\min} \\) proportion of energy comes from renewable sources:\n",
    "$$\n",
    "\\sum_{i \\in \\text{renewable sources}} y_i \\geq R_{\\min} \\times \\sum_{i \\in \\text{energy sources}} y_i\n",
    "$$\n"
   ]
  },
  {
   "cell_type": "markdown",
   "id": "724f2aca-b0d3-4dc8-9326-71520b8ffbca",
   "metadata": {},
   "source": [
    "## 4. Build Solutions\n",
    "\n",
    "**Task:** Construct and run the linear regression model where `concrete_compressive_strength` is the output and `cement`,`water`, `course_aggregate`, and `fine_aggregate` are the inputs."
   ]
  },
  {
   "cell_type": "markdown",
   "id": "2e9c74d0-0b01-4d49-9855-746df8aaa687",
   "metadata": {},
   "source": [
    "## 5. Simple Model"
   ]
  },
  {
   "cell_type": "code",
   "execution_count": 2,
   "id": "85871a15-d93c-48f6-94c0-fe23fe53e5fa",
   "metadata": {},
   "outputs": [],
   "source": [
    "import numpy as np\n",
    "import matplotlib.pyplot as plt\n",
    "import pandas as pd\n",
    "from pulp import LpProblem, LpVariable, LpMinimize\n",
    "from pulp import LpMinimize, LpProblem, LpVariable, lpSum"
   ]
  },
  {
   "cell_type": "code",
   "execution_count": 3,
   "id": "5d23edd0-0db3-4ad7-ad71-6b8ce265c85a",
   "metadata": {},
   "outputs": [
    {
     "data": {
      "text/html": [
       "<div>\n",
       "<style scoped>\n",
       "    .dataframe tbody tr th:only-of-type {\n",
       "        vertical-align: middle;\n",
       "    }\n",
       "\n",
       "    .dataframe tbody tr th {\n",
       "        vertical-align: top;\n",
       "    }\n",
       "\n",
       "    .dataframe thead th {\n",
       "        text-align: right;\n",
       "    }\n",
       "</style>\n",
       "<table border=\"1\" class=\"dataframe\">\n",
       "  <thead>\n",
       "    <tr style=\"text-align: right;\">\n",
       "      <th></th>\n",
       "      <th>LCOE Cost ($/MWh)</th>\n",
       "      <th>Pollution Cost (g/kWh CO2eq)</th>\n",
       "      <th>Fixed Cost ($ per MW)</th>\n",
       "      <th>Production Limit (MW)</th>\n",
       "      <th>Renewable Indicator</th>\n",
       "      <th>Consumption Rate</th>\n",
       "    </tr>\n",
       "    <tr>\n",
       "      <th>Energy Source</th>\n",
       "      <th></th>\n",
       "      <th></th>\n",
       "      <th></th>\n",
       "      <th></th>\n",
       "      <th></th>\n",
       "      <th></th>\n",
       "    </tr>\n",
       "  </thead>\n",
       "  <tbody>\n",
       "    <tr>\n",
       "      <th>solar</th>\n",
       "      <td>86.5</td>\n",
       "      <td>37</td>\n",
       "      <td>1516000</td>\n",
       "      <td>905.264</td>\n",
       "      <td>1</td>\n",
       "      <td>0.90</td>\n",
       "    </tr>\n",
       "    <tr>\n",
       "      <th>wind</th>\n",
       "      <td>106.5</td>\n",
       "      <td>12</td>\n",
       "      <td>1389000</td>\n",
       "      <td>905.264</td>\n",
       "      <td>1</td>\n",
       "      <td>0.85</td>\n",
       "    </tr>\n",
       "    <tr>\n",
       "      <th>hydro</th>\n",
       "      <td>213.0</td>\n",
       "      <td>150</td>\n",
       "      <td>6428500</td>\n",
       "      <td>43000.000</td>\n",
       "      <td>1</td>\n",
       "      <td>0.95</td>\n",
       "    </tr>\n",
       "    <tr>\n",
       "      <th>coal</th>\n",
       "      <td>74.0</td>\n",
       "      <td>1000</td>\n",
       "      <td>4074000</td>\n",
       "      <td>0.000</td>\n",
       "      <td>0</td>\n",
       "      <td>0.70</td>\n",
       "    </tr>\n",
       "    <tr>\n",
       "      <th>natural_gas</th>\n",
       "      <td>54.0</td>\n",
       "      <td>430</td>\n",
       "      <td>1300000</td>\n",
       "      <td>452.632</td>\n",
       "      <td>0</td>\n",
       "      <td>0.80</td>\n",
       "    </tr>\n",
       "  </tbody>\n",
       "</table>\n",
       "</div>"
      ],
      "text/plain": [
       "               LCOE Cost ($/MWh)  Pollution Cost (g/kWh CO2eq)  \\\n",
       "Energy Source                                                    \n",
       "solar                       86.5                            37   \n",
       "wind                       106.5                            12   \n",
       "hydro                      213.0                           150   \n",
       "coal                        74.0                          1000   \n",
       "natural_gas                 54.0                           430   \n",
       "\n",
       "               Fixed Cost ($ per MW)  Production Limit (MW)  \\\n",
       "Energy Source                                                 \n",
       "solar                        1516000                905.264   \n",
       "wind                         1389000                905.264   \n",
       "hydro                        6428500              43000.000   \n",
       "coal                         4074000                  0.000   \n",
       "natural_gas                  1300000                452.632   \n",
       "\n",
       "               Renewable Indicator  Consumption Rate  \n",
       "Energy Source                                         \n",
       "solar                            1              0.90  \n",
       "wind                             1              0.85  \n",
       "hydro                            1              0.95  \n",
       "coal                             0              0.70  \n",
       "natural_gas                      0              0.80  "
      ]
     },
     "execution_count": 3,
     "metadata": {},
     "output_type": "execute_result"
    }
   ],
   "source": [
    "parameters_df = pd.read_csv(\"energy_parameters.csv\", index_col=0)\n",
    "parameters_df"
   ]
  },
  {
   "cell_type": "code",
   "execution_count": 4,
   "id": "5997594b-c9f3-465a-9993-8b2ee07b751b",
   "metadata": {},
   "outputs": [
    {
     "name": "stdout",
     "output_type": "stream",
     "text": [
      "Welcome to the CBC MILP Solver \n",
      "Version: 2.10.3 \n",
      "Build Date: Dec 15 2019 \n",
      "\n",
      "command line - /opt/conda/lib/python3.12/site-packages/pulp/solverdir/cbc/linux/64/cbc /tmp/28cfc9d782034e3e86c59162517ea2de-pulp.mps -timeMode elapsed -branch -printingOptions all -solution /tmp/28cfc9d782034e3e86c59162517ea2de-pulp.sol (default strategy 1)\n",
      "At line 2 NAME          MODEL\n",
      "At line 3 ROWS\n",
      "At line 18 COLUMNS\n",
      "At line 54 RHS\n",
      "At line 68 BOUNDS\n",
      "At line 69 ENDATA\n",
      "Problem MODEL has 13 rows, 10 columns and 30 elements\n",
      "Coin0008I MODEL read with 0 errors\n",
      "Option for timeMode changed from cpu to elapsed\n",
      "Presolve 1 (-12) rows, 4 (-6) columns and 4 (-26) elements\n",
      "0  Obj 28.505664 Primal inf 1946.413 (1)\n",
      "1  Obj 29.521139\n",
      "Optimal - objective value 29.521139\n",
      "After Postsolve, objective 29.521139, infeasibilities - dual 0 (0), primal 0 (0)\n",
      "Optimal objective 29.52113936 - 1 iterations time 0.002, Presolve 0.00\n",
      "Option for printingOptions changed from normal to all\n",
      "Total time (CPU seconds):       0.00   (Wallclock seconds):       0.00\n",
      "\n"
     ]
    },
    {
     "data": {
      "text/plain": [
       "1"
      ]
     },
     "execution_count": 4,
     "metadata": {},
     "output_type": "execute_result"
    }
   ],
   "source": [
    "energy_sources = parameters_df.index.tolist()\n",
    "\n",
    "c = parameters_df[\"LCOE Cost ($/MWh)\"].to_dict()\n",
    "p = parameters_df[\"Pollution Cost (g/kWh CO2eq)\"].to_dict()\n",
    "f = parameters_df[\"Fixed Cost ($ per MW)\"].to_dict()\n",
    "l = parameters_df[\"Production Limit (MW)\"].to_dict()\n",
    "r = parameters_df[\"Renewable Indicator\"].to_dict()\n",
    "consumption_rate = parameters_df[\"Consumption Rate\"].to_dict()\n",
    "\n",
    "D = 20000 # Total energy demand (MW)\n",
    "B = 9.36e10 # Total budget ($)\n",
    "carbon_tax = 10  # Carbon tax ($ per tonne CO2eq)\n",
    "R_min = 0.8  # Updated renewable energy target to 0.8\n",
    "\n",
    "x = LpVariable.dicts(\"x\", energy_sources, lowBound=0)  # Energy supply\n",
    "y = LpVariable.dicts(\"y\", energy_sources, lowBound=0)  # Energy extraction amount\n",
    "\n",
    "model = LpProblem(\"Energy_Optimization\", LpMinimize)\n",
    "\n",
    "model += lpSum((p[i] / 1e6) * carbon_tax * x[i] for i in energy_sources)\n",
    "\n",
    "# demand\n",
    "model += lpSum(y[i] for i in energy_sources) >= D\n",
    "\n",
    "# production limits\n",
    "for i in energy_sources:\n",
    "    model += x[i] <= l[i]\n",
    "    model += y[i] == x[i] * consumption_rate[i]  # Extraction amount = Production * Consumption rate\n",
    "\n",
    "# Constraint: budget\n",
    "model += lpSum(c[i] * x[i] for i in energy_sources) <= B\n",
    "\n",
    "# Constraint: at least R_min percent renewable energy\n",
    "renewable_energy = lpSum(y[i] * r[i] for i in energy_sources)\n",
    "total_energy = lpSum(y[i] for i in energy_sources)\n",
    "model += renewable_energy >= R_min * total_energy\n",
    "\n",
    "model.solve()"
   ]
  },
  {
   "cell_type": "code",
   "execution_count": 5,
   "id": "f69af951-4c67-466e-87e1-a880589455f5",
   "metadata": {},
   "outputs": [
    {
     "data": {
      "text/plain": [
       "{'solar': x_solar,\n",
       " 'wind': x_wind,\n",
       " 'hydro': x_hydro,\n",
       " 'coal': x_coal,\n",
       " 'natural_gas': x_natural_gas}"
      ]
     },
     "execution_count": 5,
     "metadata": {},
     "output_type": "execute_result"
    }
   ],
   "source": [
    "x"
   ]
  },
  {
   "cell_type": "code",
   "execution_count": 6,
   "id": "8f035ee7-5411-4375-81dd-1735f25e8b77",
   "metadata": {},
   "outputs": [
    {
     "data": {
      "text/plain": [
       "0.0"
      ]
     },
     "execution_count": 6,
     "metadata": {},
     "output_type": "execute_result"
    }
   ],
   "source": [
    "x[\"coal\"].varValue"
   ]
  },
  {
   "cell_type": "markdown",
   "id": "0b8cbad8-f7f1-4f60-91cb-5738936b7f80",
   "metadata": {},
   "source": [
    "#### The process of finding the best value was not successful, but that does not mean that there is no viable value, just that I don't think it is the best value. Therefore, the next step will still be to try to see the quality of CO2 emissions. Let's continue."
   ]
  },
  {
   "cell_type": "markdown",
   "id": "3039f2ab-4da3-498d-8322-1248c4f115df",
   "metadata": {},
   "source": [
    "## 5.1 maybe use slack variables help us find the optimal value\n",
    "Idea: \n",
    "If the **total energy supply cannot meet demand**, a slack variable demand}}  can be introduced, modifying the constraint from:\n",
    "\n",
    "$$\n",
    "\\sum y_i \\geq D\n",
    "$$\n",
    "\n",
    "to:\n",
    "\n",
    "$$\n",
    "\\sum y_i + s_{\\text{demand}} \\geq D\n",
    "$$\n",
    "\n",
    "which allows for a certain degree of energy shortage. However, to prevent the optimizer from excessively relaxing the constraint, a penalty term:\n",
    "\n",
    "$$\n",
    "\\lambda_1 \\times s_{\\text{demand}}\n",
    "$$\n",
    "\n",
    "is added to the objective function."
   ]
  },
  {
   "cell_type": "markdown",
   "id": "9989fc76-2996-4143-9f58-2c1817ef7271",
   "metadata": {},
   "source": [
    "## 6. Result for simple model"
   ]
  },
  {
   "cell_type": "code",
   "execution_count": 7,
   "id": "52f46882-2596-4cbb-9047-0b41ce56c02c",
   "metadata": {},
   "outputs": [
    {
     "name": "stdout",
     "output_type": "stream",
     "text": [
      "  Energy Source  Production (MW·h)  Extraction (MW·h)  \\\n",
      "0         solar            905.264           814.7376   \n",
      "1          wind            905.264           769.4744   \n",
      "2         hydro          19385.040         18415.7880   \n",
      "3          coal              0.000             0.0000   \n",
      "4   natural_gas              0.000             0.0000   \n",
      "\n",
      "   Pollution Cost (g CO2eq)  Carbon Cost ($)  LCOE Cost ($)  \\\n",
      "0                 33494.768         0.334948      78305.336   \n",
      "1                 10863.168         0.108632      96410.616   \n",
      "2               2907756.000        29.077560    4129013.520   \n",
      "3                     0.000         0.000000          0.000   \n",
      "4                     0.000         0.000000          0.000   \n",
      "\n",
      "   Total CO2 Emissions (tonnes)  \n",
      "0                      2.952114  \n",
      "1                      2.952114  \n",
      "2                      2.952114  \n",
      "3                      2.952114  \n",
      "4                      2.952114  \n",
      "Optimization completed for 80% renewable energy target. Total CO2 Emissions: 2.95 tonnes.\n"
     ]
    }
   ],
   "source": [
    "# Calculate total CO2 mass\n",
    "total_co2_mass = sum(p[i] * x[i].varValue for i in energy_sources) / 1e6  # Convert from g to tonnes\n",
    "\n",
    "all_results = []\n",
    "for i in energy_sources:\n",
    "    all_results.append({\n",
    "        \"Energy Source\": i,\n",
    "        \"Production (MW·h)\": x[i].varValue,\n",
    "        \"Extraction (MW·h)\": y[i].varValue,\n",
    "        \"Pollution Cost (g CO2eq)\": p[i] * x[i].varValue,\n",
    "        \"Carbon Cost ($)\": (p[i] / 1e6) * carbon_tax * x[i].varValue,\n",
    "        \"LCOE Cost ($)\": c[i] * x[i].varValue,\n",
    "        \"Total CO2 Emissions (tonnes)\": total_co2_mass\n",
    "    })\n",
    "\n",
    "results_df = pd.DataFrame(all_results)\n",
    "results_df.to_csv(\"renewable_optimization_results.csv\", index=False)\n",
    "\n",
    "print(results_df)\n",
    "print(f\"Optimization completed for 80% renewable energy target. Total CO2 Emissions: {total_co2_mass:.2f} tonnes.\")"
   ]
  },
  {
   "cell_type": "code",
   "execution_count": null,
   "id": "35df4761-e540-4423-a700-4feb4ef497da",
   "metadata": {},
   "outputs": [],
   "source": []
  },
  {
   "cell_type": "markdown",
   "id": "860c470e-91fa-4adc-a74f-351aef913c22",
   "metadata": {},
   "source": [
    "## Little complex model"
   ]
  },
  {
   "cell_type": "code",
   "execution_count": 9,
   "id": "f75c9d94-e8b7-4592-b5f1-f5886ff0580e",
   "metadata": {},
   "outputs": [
    {
     "ename": "NameError",
     "evalue": "name 'n' is not defined",
     "output_type": "error",
     "traceback": [
      "\u001b[0;31m---------------------------------------------------------------------------\u001b[0m",
      "\u001b[0;31mNameError\u001b[0m                                 Traceback (most recent call last)",
      "Cell \u001b[0;32mIn[9], line 3\u001b[0m\n\u001b[1;32m      1\u001b[0m alpha,beta \u001b[38;5;241m=\u001b[39m \u001b[38;5;241m1\u001b[39m,\u001b[38;5;241m1\u001b[39m\n\u001b[0;32m----> 3\u001b[0m x \u001b[38;5;241m=\u001b[39m LpVariable\u001b[38;5;241m.\u001b[39mdicts(\u001b[38;5;124m\"\u001b[39m\u001b[38;5;124mx\u001b[39m\u001b[38;5;124m\"\u001b[39m, \u001b[38;5;28mrange\u001b[39m(\u001b[43mn\u001b[49m), lowBound\u001b[38;5;241m=\u001b[39m\u001b[38;5;241m0\u001b[39m)\n\u001b[1;32m      4\u001b[0m model \u001b[38;5;241m=\u001b[39m LpProblem(\u001b[38;5;124m\"\u001b[39m\u001b[38;5;124mEnergy_Optimization\u001b[39m\u001b[38;5;124m\"\u001b[39m, LpMinimize)\n\u001b[1;32m      6\u001b[0m model \u001b[38;5;241m+\u001b[39m\u001b[38;5;241m=\u001b[39m alpha \u001b[38;5;241m*\u001b[39m lpSum(c[i] \u001b[38;5;241m*\u001b[39m x[i] \u001b[38;5;28;01mfor\u001b[39;00m i \u001b[38;5;129;01min\u001b[39;00m \u001b[38;5;28mrange\u001b[39m(n)) \u001b[38;5;241m+\u001b[39m beta \u001b[38;5;241m*\u001b[39m lpSum(p[i] \u001b[38;5;241m*\u001b[39m x[i] \u001b[38;5;28;01mfor\u001b[39;00m i \u001b[38;5;129;01min\u001b[39;00m \u001b[38;5;28mrange\u001b[39m(n))\n",
      "\u001b[0;31mNameError\u001b[0m: name 'n' is not defined"
     ]
    }
   ],
   "source": [
    "alpha,beta = 1,1\n",
    "\n",
    "x = LpVariable.dicts(\"x\", range(n), lowBound=0)\n",
    "model = LpProblem(\"Energy_Optimization\", LpMinimize)\n",
    "\n",
    "model += alpha * lpSum(c[i] * x[i] for i in range(n)) + beta * lpSum(p[i] * x[i] for i in range(n))\n",
    "\n",
    "#energy supply exceed demand\n",
    "model += lpSum(x[i] for i in range(n)) >= D\n",
    "\n",
    "#energy source not exceed limit\n",
    "for i in range(n):\n",
    "    model += x[i] <= l[i]\n",
    "\n",
    "#λ%, propostion of enewable sources\n",
    "model += lpSum(x[i] * r[i] for i in range(n)) >= lambda_ * lpSum(x[i] for i in range(n))\n",
    "\n",
    "model.solve()"
   ]
  },
  {
   "cell_type": "code",
   "execution_count": null,
   "id": "57a440d0-8c23-4a92-a504-35eee537893c",
   "metadata": {},
   "outputs": [],
   "source": []
  },
  {
   "cell_type": "markdown",
   "id": "2eed0fc0-b059-4d47-8646-2536512ce847",
   "metadata": {},
   "source": [
    "### Optimization for energy storage"
   ]
  },
  {
   "cell_type": "code",
   "execution_count": null,
   "id": "03478240-b7d2-423e-9a5f-f2bcce1bb8ef",
   "metadata": {},
   "outputs": [],
   "source": [
    "x = LpVariable.dicts(\"x\", [(i, t) for i in sources for t in time_periods], lowBound=0)  \n",
    "s = LpVariable.dicts(\"s\", time_periods, lowBound=0)  \n",
    "u = LpVariable.dicts(\"u\", time_periods, lowBound=0)\n",
    "\n",
    "\n",
    "model += alpha * lpSum(c[i] * x[i, t] for i in sources for t in time_periods) + \\\n",
    "         beta * lpSum(p[i] * x[i, t] for i in sources for t in time_periods)\n",
    "\n"
   ]
  }
 ],
 "metadata": {
  "kernelspec": {
   "display_name": "Python 3 (ipykernel)",
   "language": "python",
   "name": "python3"
  },
  "language_info": {
   "codemirror_mode": {
    "name": "ipython",
    "version": 3
   },
   "file_extension": ".py",
   "mimetype": "text/x-python",
   "name": "python",
   "nbconvert_exporter": "python",
   "pygments_lexer": "ipython3",
   "version": "3.12.8"
  }
 },
 "nbformat": 4,
 "nbformat_minor": 5
}
